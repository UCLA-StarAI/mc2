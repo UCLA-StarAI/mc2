{
 "cells": [
  {
   "cell_type": "code",
   "execution_count": 1,
   "metadata": {},
   "outputs": [
    {
     "name": "stderr",
     "output_type": "stream",
     "text": [
      "c:\\users\\pashak\\appdata\\local\\programs\\python\\python37\\lib\\site-packages\\sklearn\\externals\\joblib\\__init__.py:15: DeprecationWarning: sklearn.externals.joblib is deprecated in 0.21 and will be removed in 0.23. Please import this functionality directly from joblib, which can be installed with: pip install joblib. If this warning is raised when loading pickled models, you may need to re-serialize those models with scikit-learn 0.21+.\n",
      "  warnings.warn(msg, category=DeprecationWarning)\n",
      "c:\\users\\pashak\\appdata\\local\\programs\\python\\python37\\lib\\site-packages\\sklearn\\externals\\six.py:31: DeprecationWarning: The module is deprecated in version 0.21 and will be removed in version 0.23 since we've dropped support for Python 2.7. Please rely on the official version of six (https://pypi.org/project/six/).\n",
      "  \"(https://pypi.org/project/six/).\", DeprecationWarning)\n"
     ]
    }
   ],
   "source": [
    "import sys\n",
    "import numpy as np\n",
    "sys.path.append(\"LogisticCircuit\")\n",
    "sys.path.append(\"pypsdd\")\n",
    "from structure.Vtree import Vtree as LC_Vtree\n",
    "\n",
    "from collections import defaultdict\n",
    "\n",
    "import pdb\n",
    "\n",
    "from vtree import Vtree as PSDD_Vtree\n",
    "from manager import PSddManager\n",
    "import psdd_io\n",
    "from data import Inst, InstMap\n",
    "\n",
    "\n",
    "import itertools\n",
    "from algo.LogisticCircuit import LogisticCircuit\n",
    "\n",
    "import circuit_expect\n",
    "from sympy import *\n",
    "from utils import *\n",
    "\n",
    "from scipy.special import logit\n",
    "from scipy.special import expit\n",
    "\n",
    "import gzip, pickle\n",
    "\n",
    "try:\n",
    "    from time import perf_counter\n",
    "except:\n",
    "    from time import time\n",
    "    perf_counter = time\n"
   ]
  },
  {
   "cell_type": "code",
   "execution_count": 2,
   "metadata": {},
   "outputs": [],
   "source": [
    "def print_summary(obs, psdd, lgc, title = \"title\"):\n",
    "    ins = InstMap.from_list(obs)\n",
    "    cache = EVCache()\n",
    "    P = psdd.value(ins)\n",
    "    expect = circuit_expect.Expectation(psdd, lgc, cache, np.array([obs]))\n",
    "    mom2 = circuit_expect.moment(psdd, lgc, 2, cache, np.array([obs]))\n",
    "    std = np.sqrt(mom2 - expect*expect)\n",
    "    print(title, \": \")\n",
    "    print(\"P(x) = {}\".format(P), end = \"\")\n",
    "    print(\" Exp f(x) = {} , std = {}\".format(expect, std))\n",
    "    return P, expect\n",
    "\n",
    "\n",
    "\n",
    "def filter_data_indexes(x_data, observation):\n",
    "    ans = []\n",
    "    for i in range(x_data.shape[0]):\n",
    "        ok = True\n",
    "        for j in range(len(observation)):\n",
    "            if observation[j] == -1:\n",
    "                continue\n",
    "            elif observation[j] != x_data[i][j]:\n",
    "                ok = False\n",
    "                break\n",
    "\n",
    "        if ok:\n",
    "            ans.append(i)\n",
    "\n",
    "    if len(ans) == 0:\n",
    "        return np.array([],dtype=int)\n",
    "    return np.array(ans)"
   ]
  },
  {
   "cell_type": "code",
   "execution_count": 3,
   "metadata": {},
   "outputs": [],
   "source": [
    "VTREE_FILE = \"exp/new-reg-circuit-grid/insurance/insurance_20190520-184809/insurance.vtree\"\n",
    "GLC_FILE = \"exp/new-reg-circuit-grid/insurance/insurance_20190520-184809/best/insurance.glc\"\n",
    "PSDD_FILE = \"exp/new-reg-circuit-grid/insurance/insurance_20190520-184809/best/insurance.psdd\"\n",
    "DATASET = \"data/insurance/insurance.pklz\"\n",
    "CLASSES = 1"
   ]
  },
  {
   "cell_type": "code",
   "execution_count": 4,
   "metadata": {},
   "outputs": [
    {
     "name": "stdout",
     "output_type": "stream",
     "text": [
      "Loading Data\n",
      "Loading Vtree..\n",
      "Loading Logistic Circuit...\n",
      "Loading PSDD..\n"
     ]
    }
   ],
   "source": [
    "print(\"Loading Data\")\n",
    "\n",
    "with gzip.open(DATASET, 'rb') as f:\n",
    "    data_splits = pickle.load(f)\n",
    "\n",
    "(x_train, y_train), (x_valid, y_valid), (x_test, y_test) = data_splits\n",
    "\n",
    "\n",
    "print(\"Loading Vtree..\")\n",
    "lc_vtree = LC_Vtree.read(VTREE_FILE)\n",
    "\n",
    "print(\"Loading Logistic Circuit...\")\n",
    "with open(GLC_FILE) as circuit_file:\n",
    "    lgc = LogisticCircuit(lc_vtree, CLASSES, circuit_file=circuit_file)\n",
    "\n",
    "print(\"Loading PSDD..\")\n",
    "psdd_vtree = PSDD_Vtree.read(VTREE_FILE)\n",
    "manager = PSddManager(psdd_vtree)\n",
    "psdd = psdd_io.psdd_yitao_read(PSDD_FILE, manager)"
   ]
  },
  {
   "cell_type": "code",
   "execution_count": 5,
   "metadata": {},
   "outputs": [
    {
     "name": "stdout",
     "output_type": "stream",
     "text": [
      "Smoker A : \n",
      "P(x) = 0.7299238540320626 Exp f(x) = [[8741.74725831]] , std = [[4780.46254591]]\n",
      "Smoker B : \n",
      "P(x) = 0.18403566812744454 Exp f(x) = [[31355.32630489]] , std = [[10772.20981438]]\n",
      "Difference in smoke exp = [[-22613.57904658]]\n",
      "-----------\n",
      "Gender C : \n",
      "P(x) = 0.43929081570173034 Exp f(x) = [[13196.54892638]] , std = [[10412.04797653]]\n",
      "Gender D : \n",
      "P(x) = 0.4717830801484342 Exp f(x) = [[14170.12546934]] , std = [[11592.53850812]]\n",
      "Difference in gender exp = [[-973.57654295]]\n"
     ]
    }
   ],
   "source": [
    "obsA = [-1 for i in range(36)]\n",
    "obsA[6] = 1 \n",
    "obsA[7] = 0 \n",
    "\n",
    "obsB = [-1 for i in range(36)]\n",
    "obsB[6] = 0 \n",
    "obsB[7] = 1\n",
    "\n",
    "PA, expA = print_summary(obsA, psdd, lgc, \"Smoker A\")\n",
    "PB, expB = print_summary(obsB, psdd, lgc, \"Smoker B\")\n",
    "    \n",
    "\n",
    "print(\"Difference in smoke exp = {}\".format(expA - expB))\n",
    "print(\"-----------\")\n",
    "\n",
    "obsC = [-1 for i in range(36)]\n",
    "obsC[12] = 1\n",
    "obsC[13] = 0 \n",
    "\n",
    "obsD = [-1 for i in range(36)]\n",
    "obsD[12] = 0 \n",
    "obsD[13] = 1\n",
    "\n",
    "PC, expC = print_summary(obsC, psdd, lgc, \"Gender C\")\n",
    "PD, expD = print_summary(obsD, psdd, lgc, \"Gender D\")\n",
    "print(\"Difference in gender exp = {}\".format(expC - expD))"
   ]
  },
  {
   "cell_type": "code",
   "execution_count": 6,
   "metadata": {},
   "outputs": [
    {
     "name": "stdout",
     "output_type": "stream",
     "text": [
      "number of samples: 115,19,25\n",
      "(Smoke, Gender) [0, 1, 0, 1] : \n",
      "P(x) = 0.09623782748058203 Exp f(x) = [[31529.64537063]] , std = [[10768.56804479]]\n",
      "number of samples: 77,18,20\n",
      "(Smoke, Gender) [0, 1, 1, 0] : \n",
      "P(x) = 0.06345906743820999 Exp f(x) = [[31496.91407013]] , std = [[10626.50061444]]\n",
      "number of samples: 368,67,82\n",
      "(Smoke, Gender) [1, 0, 0, 1] : \n",
      "P(x) = 0.33779927958641853 Exp f(x) = [[8622.0919159]] , std = [[4767.37701358]]\n",
      "number of samples: 376,83,88\n",
      "(Smoke, Gender) [1, 0, 1, 0] : \n",
      "P(x) = 0.34144646362220654 Exp f(x) = [[9041.18946706]] , std = [[4717.10035995]]\n"
     ]
    }
   ],
   "source": [
    "cases = [ \n",
    "        [0, 1, 0, 1],\n",
    "        [0, 1, 1, 0],\n",
    "        [1, 0, 0, 1],\n",
    "        [1, 0, 1, 0]\n",
    "]\n",
    "\n",
    "for case in cases:\n",
    "    obs = [-1 for i in range(36)]\n",
    "    obs[6] = case[0] \n",
    "    obs[7] = case[1] \n",
    "    obs[12] = case[2] \n",
    "    obs[13] = case[3]  \n",
    "    A = filter_data_indexes(x_train, obs).shape[0]\n",
    "    B = filter_data_indexes(x_valid, obs).shape[0]\n",
    "    C = filter_data_indexes(x_test,  obs).shape[0]\n",
    "    print(\"number of samples: {},{},{}\".format(A,B,C))\n",
    "    P, EXP = print_summary(obs, psdd, lgc, \"(Smoke, Gender) {}\".format(case))"
   ]
  },
  {
   "cell_type": "code",
   "execution_count": 7,
   "metadata": {},
   "outputs": [
    {
     "name": "stdout",
     "output_type": "stream",
     "text": [
      "Difference regions = [[-973.57654295]]\n",
      "number of samples: 217,49,58\n",
      "====> 13634.793071382488 [11300.283828493622]\n",
      "(Location) [1, 0, 0, 0] : \n",
      "P(x) = 0.17312534052078693 Exp f(x) = [[12828.35686092]] , std = [[9633.78506226]]\n",
      "number of samples: 225,55,45\n",
      "====> 12184.409216088889 [10195.820168255574]\n",
      "(Location) [0, 1, 0, 0] : \n",
      "P(x) = 0.17410529263006871 Exp f(x) = [[11294.21609901]] , std = [[8478.89313213]]\n",
      "number of samples: 254,49,61\n",
      "====> 15009.115852480314 [14220.295149318237]\n",
      "(Location) [0, 0, 1, 0] : \n",
      "P(x) = 0.22958593119440648 Exp f(x) = [[15501.69365602]] , std = [[12776.28918214]]\n",
      "number of samples: 240,34,51\n",
      "====> 12561.456521875 [11779.305256540987]\n",
      "(Location) [0, 0, 0, 1] : \n",
      "P(x) = 0.19078206349276028 Exp f(x) = [[11081.53682305]] , std = [[9514.35456259]]\n"
     ]
    }
   ],
   "source": [
    "print(\"Difference regions = {}\".format(expC - expD))\n",
    "cases = [ \n",
    "        [1, 0, 0, 0],\n",
    "        [0, 1, 0, 0],\n",
    "        [0, 0, 1, 0],\n",
    "        [0, 0, 0, 1]\n",
    "]\n",
    "\n",
    "for case in cases:\n",
    "    obs = [-1 for i in range(36)]\n",
    "    obs[8] = case[0] \n",
    "    obs[9] = case[1] \n",
    "    obs[10] = case[2] \n",
    "    obs[11] = case[3]  \n",
    "    A = filter_data_indexes(x_train, obs)\n",
    "    B = filter_data_indexes(x_valid, obs)\n",
    "    C = filter_data_indexes(x_test,  obs)\n",
    "    print(\"number of samples: {},{},{}\".format(A.shape[0],B.shape[0],C.shape[0]))\n",
    "    print(\"====> {} [{}]\".format(np.mean(y_train[A]), np.std(y_train[A])))\n",
    "    P, EXP = print_summary(obs, psdd, lgc, \"(Location) {}\".format(case))"
   ]
  },
  {
   "cell_type": "code",
   "execution_count": 8,
   "metadata": {},
   "outputs": [
    {
     "name": "stdout",
     "output_type": "stream",
     "text": [
      "number of samples: 38,6,11\n",
      "38 34950.69068578947 11417.378152507816\n",
      "Combo [0, 0, 0, 1] : \n",
      "P(x) = 0.027755383690319903 Exp f(x) = [[32852.29320981]] , std = [[10946.98523972]]\n"
     ]
    }
   ],
   "source": [
    "combObs = [-1 for i in range(36)]\n",
    "combObs[8:12] = [0, 0, 1, 0] # region \n",
    "combObs[12:14] = [0, 1] # gender\n",
    "combObs[6:8] = [0,1] # Smoking\n",
    "\n",
    "A = filter_data_indexes(x_train, combObs).shape[0]\n",
    "B = filter_data_indexes(x_valid, combObs).shape[0]\n",
    "C = filter_data_indexes(x_test,  combObs).shape[0]\n",
    "print(\"number of samples: {},{},{}\".format(A,B,C))\n",
    "idx = filter_data_indexes(x_train, combObs)\n",
    "print(np.shape(idx)[0], np.mean(y_train[idx]), np.std(y_train[idx]))\n",
    "P, EXP = print_summary(combObs, psdd, lgc, \"Combo {}\".format(case))"
   ]
  },
  {
   "cell_type": "code",
   "execution_count": 9,
   "metadata": {},
   "outputs": [
    {
     "name": "stdout",
     "output_type": "stream",
     "text": [
      "number of samples: 325\n",
      "225 12184.409216088889 10195.820168255574\n"
     ]
    }
   ],
   "source": [
    "combObs = [-1 for i in range(36)]\n",
    "# combObs[6:8] = [0, 1] # Smoking = Yes\n",
    "# combObs[0:6] = [0,1,0,0,0,0] # Children = 1\n",
    "# combObs[12:14] = [1, 0] # Gender = Female\n",
    "combObs[8:12] = [0, 1, 0, 0] # Region = southeast\n",
    "\n",
    "A = filter_data_indexes(x_train, combObs).shape[0]\n",
    "B = filter_data_indexes(x_valid, combObs).shape[0]\n",
    "C = filter_data_indexes(x_test,  combObs).shape[0]\n",
    "print(\"number of samples: {}\".format(A+B+C))\n",
    "\n",
    "idx = filter_data_indexes(x_train, combObs)\n",
    "print(np.shape(idx)[0], np.mean(y_train[idx]), np.std(y_train[idx]))"
   ]
  },
  {
   "cell_type": "code",
   "execution_count": 10,
   "metadata": {},
   "outputs": [
    {
     "name": "stdout",
     "output_type": "stream",
     "text": [
      "number of samples: 3,1,0\n",
      "3 35115.5592 9657.089882888411\n"
     ]
    }
   ],
   "source": [
    "combObs = [-1 for i in range(36)]\n",
    "combObs[6:8] = [0, 1] # Smoking = Yes\n",
    "combObs[0:6] = [0,1,0,0,0,0] # Children = 1\n",
    "combObs[12:14] = [1, 0] # Gender = Female\n",
    "combObs[8:12] = [0, 1, 0, 0] # Region = southeast ?southwest???\n",
    "\n",
    "A = filter_data_indexes(x_train, combObs).shape[0]\n",
    "B = filter_data_indexes(x_valid, combObs).shape[0]\n",
    "C = filter_data_indexes(x_test,  combObs).shape[0]\n",
    "print(\"number of samples: {},{},{}\".format(A,B,C))\n",
    "\n",
    "idx = filter_data_indexes(x_train, combObs)\n",
    "print(np.shape(idx)[0], np.mean(y_train[idx]), np.std(y_train[idx]))"
   ]
  },
  {
   "cell_type": "code",
   "execution_count": 11,
   "metadata": {},
   "outputs": [
    {
     "name": "stdout",
     "output_type": "stream",
     "text": [
      "Combo [0, 1, 0, 0, 0, 0, 0, 1, 0, 1, 0, 0, 1, 0, -1, -1, -1, -1, -1, -1, -1, -1, -1, -1, -1, -1, -1, -1, -1, -1, -1, -1, -1, -1, -1, -1] : \n",
      "P(x) = 0.000735320694302092 Exp f(x) = [[27250.65854862]] , std = [[7717.09623874]]\n"
     ]
    }
   ],
   "source": [
    "P, EXP = print_summary(combObs, psdd, lgc, \"Combo {}\".format(combObs))"
   ]
  },
  {
   "cell_type": "code",
   "execution_count": 12,
   "metadata": {
    "scrolled": false
   },
   "outputs": [
    {
     "name": "stdout",
     "output_type": "stream",
     "text": [
      "number of samples: 1,0,0\n",
      "1 14571.8908 0.0\n"
     ]
    }
   ],
   "source": [
    "combObs = [-1 for i in range(36)]\n",
    "combObs[0:6] = [1,0,0,0,0,0]\n",
    "combObs[8:12] = [1, 0, 0, 0] # region\n",
    "combObs[12:14] = [1, 0] # gender\n",
    "combObs[6:8] = [0, 1] # Smoking\n",
    "combObs[15:26] = [1, 0, 0, 0, 0, 0, 0, 0, 0, 0, 0]\n",
    "\n",
    "A = filter_data_indexes(x_train, combObs).shape[0]\n",
    "B = filter_data_indexes(x_valid, combObs).shape[0]\n",
    "C = filter_data_indexes(x_test,  combObs).shape[0]\n",
    "print(\"number of samples: {},{},{}\".format(A,B,C))\n",
    "\n",
    "idx = filter_data_indexes(x_train, combObs)\n",
    "print(np.shape(idx)[0], np.mean(y_train[idx]), np.std(y_train[idx]))"
   ]
  },
  {
   "cell_type": "code",
   "execution_count": 13,
   "metadata": {},
   "outputs": [
    {
     "name": "stdout",
     "output_type": "stream",
     "text": [
      "Combo [1, 0, 0, 0, 0, 0, 0, 1, 1, 0, 0, 0, 1, 0, -1, 1, 0, 0, 0, 0, 0, 0, 0, 0, 0, 0, -1, -1, -1, -1, -1, -1, -1, -1, -1, -1] : \n",
      "P(x) = 8.471170844516204e-05 Exp f(x) = [[26569.69205926]] , std = [[4003.07591662]]\n"
     ]
    }
   ],
   "source": [
    "P, EXP = print_summary(combObs, psdd, lgc, \"Combo {}\".format(combObs))"
   ]
  },
  {
   "cell_type": "code",
   "execution_count": 14,
   "metadata": {},
   "outputs": [],
   "source": [
    "##########"
   ]
  },
  {
   "cell_type": "code",
   "execution_count": 15,
   "metadata": {},
   "outputs": [
    {
     "name": "stdout",
     "output_type": "stream",
     "text": [
      " : \n",
      "P(x) = 1.0000000000000002 Exp f(x) = [[13856.18299956]] , std = [[11224.28324704]]\n",
      "Smoke : \n",
      "P(x) = 0.18403566812744454 Exp f(x) = [[31355.32630489]] , std = [[10772.20981438]]\n",
      "Children : \n",
      "P(x) = 0.014010355852028696 Exp f(x) = [[31578.81577859]] , std = [[11141.94772446]]\n",
      "Gender : \n",
      "P(x) = 0.004900729526751024 Exp f(x) = [[31027.99574661]] , std = [[10855.36547545]]\n",
      "Region : \n",
      "P(x) = 0.0009639268505233895 Exp f(x) = [[30974.77283495]] , std = [[11229.0358695]]\n"
     ]
    }
   ],
   "source": [
    "combObs = [-1 for i in range(36)]\n",
    "\n",
    "P1, exp1 = print_summary(combObs, psdd, lgc, \"\")\n",
    "\n",
    "combObs[6:8] = [0, 1] # Smoking = Yes\n",
    "\n",
    "P1, exp1 = print_summary(combObs, psdd, lgc, \"Smoke\")\n",
    "\n",
    "combObs[0:6] = [0,1,0,0,0,0] # Children = 1\n",
    "\n",
    "P2, exp2 = print_summary(combObs, psdd, lgc, \"Children\")\n",
    "\n",
    "combObs[12:14] = [1, 0] # Gender = Female\n",
    "\n",
    "P3, exp3 = print_summary(combObs, psdd, lgc, \"Gender\")\n",
    "\n",
    "combObs[8:12] = [0, 0, 1, 0] # Region = southeast\n",
    "\n",
    "P4, exp4 = print_summary(combObs, psdd, lgc, \"Region\")"
   ]
  },
  {
   "cell_type": "code",
   "execution_count": 16,
   "metadata": {},
   "outputs": [
    {
     "name": "stdout",
     "output_type": "stream",
     "text": [
      "number of samples: 4,1,1\n",
      "4 24476.33165 10711.943335737955\n"
     ]
    }
   ],
   "source": [
    "A = filter_data_indexes(x_train, combObs).shape[0]\n",
    "B = filter_data_indexes(x_valid, combObs).shape[0]\n",
    "C = filter_data_indexes(x_test,  combObs).shape[0]\n",
    "print(\"number of samples: {},{},{}\".format(A,B,C))\n",
    "\n",
    "idx = filter_data_indexes(x_train, combObs)\n",
    "print(np.shape(idx)[0], np.mean(y_train[idx]), np.std(y_train[idx]))"
   ]
  },
  {
   "cell_type": "code",
   "execution_count": 17,
   "metadata": {},
   "outputs": [
    {
     "name": "stdout",
     "output_type": "stream",
     "text": [
      "number of samples: 77,18,20\n",
      "77 31686.910155584414 12080.390157445532\n",
      "Combo [-1, -1, -1, -1, -1, -1, 0, 1, -1, -1, -1, -1, 1, 0, -1, -1, -1, -1, -1, -1, -1, -1, -1, -1, -1, -1, -1, -1, -1, -1, -1, -1, -1, -1, -1, -1] : \n",
      "P(x) = 0.06345906743820999 Exp f(x) = [[31496.91407013]] , std = [[10626.50061444]]\n"
     ]
    },
    {
     "data": {
      "text/plain": [
       "(0.06345906743820999, array([[31496.91407013]]))"
      ]
     },
     "execution_count": 17,
     "metadata": {},
     "output_type": "execute_result"
    }
   ],
   "source": [
    "combObs = [-1 for i in range(36)]\n",
    "combObs[12:14] = [1, 0] # gender\n",
    "combObs[6:8] = [0, 1] # Smoking\n",
    "\n",
    "A = filter_data_indexes(x_train, combObs).shape[0]\n",
    "B = filter_data_indexes(x_valid, combObs).shape[0]\n",
    "C = filter_data_indexes(x_test,  combObs).shape[0]\n",
    "print(\"number of samples: {},{},{}\".format(A,B,C))\n",
    "\n",
    "idx = filter_data_indexes(x_train, combObs)\n",
    "print(np.shape(idx)[0], np.mean(y_train[idx]), np.std(y_train[idx]))\n",
    "print_summary(combObs, psdd, lgc, \"Combo {}\".format(combObs))"
   ]
  }
 ],
 "metadata": {
  "kernelspec": {
   "display_name": "Python 3",
   "language": "python",
   "name": "python3"
  },
  "language_info": {
   "codemirror_mode": {
    "name": "ipython",
    "version": 3
   },
   "file_extension": ".py",
   "mimetype": "text/x-python",
   "name": "python",
   "nbconvert_exporter": "python",
   "pygments_lexer": "ipython3",
   "version": "3.7.3"
  }
 },
 "nbformat": 4,
 "nbformat_minor": 2
}
